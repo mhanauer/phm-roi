{
 "cells": [
  {
   "cell_type": "code",
   "execution_count": 9,
   "id": "2e94a1da-a0aa-48c4-80b9-eb8bb12dd661",
   "metadata": {},
   "outputs": [],
   "source": [
    "import os\n",
    "import boto3\n",
    "from io import BytesIO\n",
    "import pandas as pd\n",
    "import numpy as np\n",
    "path = '/home/sagemaker-user/ds-dev-repo/phm_roi/src/data'\n",
    "os.chdir(path)\n",
    "data = pd.read_csv('data_phm_roi_demo.csv')"
   ]
  },
  {
   "cell_type": "code",
   "execution_count": 10,
   "id": "db28e1a6-b815-419a-97ad-a7aed4a6c23b",
   "metadata": {},
   "outputs": [],
   "source": [
    "import xgboost as xgb \n",
    "\n",
    "import pandas as pd \n",
    "\n",
    "  \n",
    "\n",
    "# Load the dataset (if you have saved it previously, otherwise, use the generated data directly) \n",
    "\n",
    "# data = pd.read_csv('sample_dataset.csv') \n",
    "\n",
    "  \n",
    "\n",
    "# Columns to exclude from training \n",
    "\n",
    "exclude_cols = ['member_id', 'omada_costs', 'web_md_costs'] \n",
    "\n",
    "  \n",
    "\n",
    "# Split the data into no intervention group and others \n",
    "\n",
    "no_intervention_data = data[data['no_intervention'] == 1] \n",
    "\n",
    "all_data = data.copy() \n",
    "\n",
    "  \n",
    "\n",
    "def train_model(data, target, exclude_cols): \n",
    "\n",
    "    # Prepare the data for XGBoost \n",
    "\n",
    "    X = data.drop(columns=exclude_cols + [target]) \n",
    "\n",
    "    y = data[target] \n",
    "\n",
    "  \n",
    "\n",
    "    # Train XGBoost model for the given target \n",
    "\n",
    "    model = xgb.XGBRegressor() \n",
    "\n",
    "    model.fit(X, y) \n",
    "\n",
    "  \n",
    "\n",
    "    return model \n",
    "\n",
    "  \n",
    "\n",
    "def predict_with_model(models, data, exclude_cols): \n",
    "\n",
    "    predictions = {} \n",
    "\n",
    "    for target, model in models.items(): \n",
    "\n",
    "        # Prepare the data for predictions \n",
    "\n",
    "        X = data.drop(columns=exclude_cols + [target]) \n",
    "\n",
    "         \n",
    "\n",
    "        # Predict the target \n",
    "\n",
    "        predictions[target] = model.predict(X) \n",
    "\n",
    "     \n",
    "\n",
    "    return predictions "
   ]
  },
  {
   "cell_type": "code",
   "execution_count": 11,
   "id": "f8044a79-4a11-4687-bffa-6879fd876d69",
   "metadata": {},
   "outputs": [],
   "source": [
    "# Train models on no intervention group data for specified targets \n",
    "\n",
    "targets = ['costs_diff', 'er_visits_diff'] \n",
    "\n",
    "models = {target: train_model(no_intervention_data, target, exclude_cols) for target in targets} \n",
    "\n",
    "  \n",
    "\n",
    "# Make predictions on the entire dataset \n",
    "\n",
    "predictions = predict_with_model(models, all_data, exclude_cols) \n",
    "\n",
    "  \n",
    "\n",
    "# Add predictions to the original dataset \n",
    "\n",
    "for target, preds in predictions.items(): \n",
    "\n",
    "    all_data[f'pred_{target}'] = preds \n"
   ]
  },
  {
   "cell_type": "code",
   "execution_count": 17,
   "id": "02b37973-db48-464a-8a3d-2ac0f4214993",
   "metadata": {},
   "outputs": [],
   "source": [
    "\n",
    "# Calculate total program costs \n",
    "\n",
    "all_data['total_program_costs'] = all_data['omada_costs'] + all_data['web_md_costs'] \n",
    "\n",
    "all_data['change_costs'] = all_data['costs_diff'] - all_data['pred_costs_diff'] - all_data['total_program_costs']\n",
    "\n",
    "all_data['roi_costs'] = (all_data['costs_diff'] - all_data['pred_costs_diff']) / all_data['total_program_costs']\n",
    "\n",
    "# Calculate ROI for ER visits \n",
    "\n",
    "all_data['roi_er_visits'] = all_data['er_visits_diff'] - all_data['pred_er_visits_diff'] "
   ]
  },
  {
   "cell_type": "code",
   "execution_count": 18,
   "id": "22e10101-68ef-4b2b-8713-adce4b6f59be",
   "metadata": {},
   "outputs": [],
   "source": [
    "# Create intervention_group column \n",
    "\n",
    "conditions = [ \n",
    "\n",
    "    (all_data['omada'] == 1) & (all_data['web_md'] == 0), \n",
    "\n",
    "    (all_data['omada'] == 0) & (all_data['web_md'] == 1), \n",
    "\n",
    "    (all_data['omada'] == 1) & (all_data['web_md'] == 1), \n",
    "\n",
    "    (all_data['no_intervention'] == 1) \n",
    "\n",
    "] \n",
    "\n",
    "  \n",
    "\n",
    "choices = ['omada', 'web_md', 'both', 'no_intervention'] \n",
    "\n",
    "  \n",
    "\n",
    "all_data['intervention_group'] = np.select(conditions, choices, default='no_intervention') "
   ]
  },
  {
   "cell_type": "code",
   "execution_count": 19,
   "id": "bcab15e2-000d-4d28-a5a4-b50e6f80021b",
   "metadata": {},
   "outputs": [
    {
     "data": {
      "text/plain": [
       "0      -881.762312\n",
       "1         0.000313\n",
       "2     -1011.587272\n",
       "3         0.002788\n",
       "4      -963.180978\n",
       "          ...     \n",
       "995       0.077952\n",
       "996   -1187.473517\n",
       "997    -154.940994\n",
       "998       0.121282\n",
       "999    -195.233234\n",
       "Name: change_costs, Length: 1000, dtype: float64"
      ]
     },
     "execution_count": 19,
     "metadata": {},
     "output_type": "execute_result"
    }
   ],
   "source": [
    "all_data['change_costs']"
   ]
  },
  {
   "cell_type": "code",
   "execution_count": 20,
   "id": "bf3621d0-9c10-463c-8b8b-fdf4f09fcd52",
   "metadata": {},
   "outputs": [],
   "source": [
    "all_data.to_csv('data_analyses_phm_roi_demo.csv', index = False)"
   ]
  },
  {
   "cell_type": "code",
   "execution_count": 8,
   "id": "c2bb806c-8022-4ae6-bc8d-55507ecef225",
   "metadata": {},
   "outputs": [
    {
     "data": {
      "text/plain": [
       "intervention_group\n",
       "no_intervention    258\n",
       "web_md             252\n",
       "both               249\n",
       "omada              241\n",
       "Name: count, dtype: int64"
      ]
     },
     "execution_count": 8,
     "metadata": {},
     "output_type": "execute_result"
    }
   ],
   "source": [
    "all_data['intervention_group'].value_counts()"
   ]
  }
 ],
 "metadata": {
  "kernelspec": {
   "display_name": "Python 3 (ipykernel)",
   "language": "python",
   "name": "python3"
  },
  "language_info": {
   "codemirror_mode": {
    "name": "ipython",
    "version": 3
   },
   "file_extension": ".py",
   "mimetype": "text/x-python",
   "name": "python",
   "nbconvert_exporter": "python",
   "pygments_lexer": "ipython3",
   "version": "3.10.14"
  }
 },
 "nbformat": 4,
 "nbformat_minor": 5
}
